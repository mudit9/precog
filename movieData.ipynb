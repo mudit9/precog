{
 "cells": [
  {
   "cell_type": "code",
   "execution_count": 36,
   "metadata": {},
   "outputs": [
    {
     "data": {
      "text/html": [
       "<div>\n",
       "<style scoped>\n",
       "    .dataframe tbody tr th:only-of-type {\n",
       "        vertical-align: middle;\n",
       "    }\n",
       "\n",
       "    .dataframe tbody tr th {\n",
       "        vertical-align: top;\n",
       "    }\n",
       "\n",
       "    .dataframe thead th {\n",
       "        text-align: right;\n",
       "    }\n",
       "</style>\n",
       "<table border=\"1\" class=\"dataframe\">\n",
       "  <thead>\n",
       "    <tr style=\"text-align: right;\">\n",
       "      <th></th>\n",
       "      <th>Name</th>\n",
       "      <th>Year of release</th>\n",
       "      <th>Rating</th>\n",
       "      <th>Genre</th>\n",
       "      <th>imdb Url</th>\n",
       "      <th>votes</th>\n",
       "    </tr>\n",
       "  </thead>\n",
       "  <tbody>\n",
       "    <tr>\n",
       "      <th>0</th>\n",
       "      <td>Polar</td>\n",
       "      <td>(2019)</td>\n",
       "      <td>6.3</td>\n",
       "      <td>\\nAction, Crime</td>\n",
       "      <td>http://www.imdb.com/title/tt4139588/?ref_=adv_...</td>\n",
       "      <td>28,030</td>\n",
       "    </tr>\n",
       "    <tr>\n",
       "      <th>1</th>\n",
       "      <td>The Punisher</td>\n",
       "      <td>(2017– )</td>\n",
       "      <td>8.6</td>\n",
       "      <td>\\nAction, Adventure, Crime</td>\n",
       "      <td>http://www.imdb.com/title/tt5675620/?ref_=adv_...</td>\n",
       "      <td>132,557</td>\n",
       "    </tr>\n",
       "    <tr>\n",
       "      <th>2</th>\n",
       "      <td>Game of Thrones</td>\n",
       "      <td>(2011– )</td>\n",
       "      <td>9.5</td>\n",
       "      <td>\\nAction, Adventure, Drama</td>\n",
       "      <td>http://www.imdb.com/title/tt0944947/?ref_=adv_...</td>\n",
       "      <td>1,406,544</td>\n",
       "    </tr>\n",
       "    <tr>\n",
       "      <th>3</th>\n",
       "      <td>Aquaman</td>\n",
       "      <td>(2018)</td>\n",
       "      <td>7.4</td>\n",
       "      <td>\\nAction, Adventure, Fantasy</td>\n",
       "      <td>http://www.imdb.com/title/tt1477834/?ref_=adv_...</td>\n",
       "      <td>157,477</td>\n",
       "    </tr>\n",
       "    <tr>\n",
       "      <th>4</th>\n",
       "      <td>Vikings</td>\n",
       "      <td>(2013– )</td>\n",
       "      <td>8.6</td>\n",
       "      <td>\\nAction, Adventure, Drama</td>\n",
       "      <td>http://www.imdb.com/title/tt2306299/?ref_=adv_...</td>\n",
       "      <td>323,777</td>\n",
       "    </tr>\n",
       "  </tbody>\n",
       "</table>\n",
       "</div>"
      ],
      "text/plain": [
       "              Name Year of release  Rating  \\\n",
       "0            Polar          (2019)     6.3   \n",
       "1     The Punisher        (2017– )     8.6   \n",
       "2  Game of Thrones        (2011– )     9.5   \n",
       "3          Aquaman          (2018)     7.4   \n",
       "4          Vikings        (2013– )     8.6   \n",
       "\n",
       "                                      Genre  \\\n",
       "0               \\nAction, Crime               \n",
       "1    \\nAction, Adventure, Crime               \n",
       "2    \\nAction, Adventure, Drama               \n",
       "3  \\nAction, Adventure, Fantasy               \n",
       "4    \\nAction, Adventure, Drama               \n",
       "\n",
       "                                            imdb Url      votes  \n",
       "0  http://www.imdb.com/title/tt4139588/?ref_=adv_...     28,030  \n",
       "1  http://www.imdb.com/title/tt5675620/?ref_=adv_...    132,557  \n",
       "2  http://www.imdb.com/title/tt0944947/?ref_=adv_...  1,406,544  \n",
       "3  http://www.imdb.com/title/tt1477834/?ref_=adv_...    157,477  \n",
       "4  http://www.imdb.com/title/tt2306299/?ref_=adv_...    323,777  "
      ]
     },
     "execution_count": 36,
     "metadata": {},
     "output_type": "execute_result"
    }
   ],
   "source": [
    "from bs4 import BeautifulSoup\n",
    "import urllib2\n",
    "import csv\n",
    "from pymongo import MongoClient\n",
    "from pprint import pprint\n",
    "import urllib\n",
    "import pandas as pd\n",
    "import json\n",
    "\n",
    "df = pd.read_csv('imdb.csv')\n",
    "df = df.drop_duplicates(subset='Name')\n",
    "\n",
    "df.head(5)\n"
   ]
  },
  {
   "cell_type": "code",
   "execution_count": 28,
   "metadata": {},
   "outputs": [
    {
     "name": "stderr",
     "output_type": "stream",
     "text": [
      "/anaconda2/lib/python2.7/site-packages/ipykernel_launcher.py:15: FutureWarning: set_value is deprecated and will be removed in a future release. Please use .at[] or .iat[] accessors instead\n",
      "  from ipykernel import kernelapp as app\n",
      "/anaconda2/lib/python2.7/site-packages/ipykernel_launcher.py:22: FutureWarning: set_value is deprecated and will be removed in a future release. Please use .at[] or .iat[] accessors instead\n",
      "/anaconda2/lib/python2.7/site-packages/ipykernel_launcher.py:27: FutureWarning: set_value is deprecated and will be removed in a future release. Please use .at[] or .iat[] accessors instead\n",
      "/anaconda2/lib/python2.7/site-packages/ipykernel_launcher.py:32: FutureWarning: set_value is deprecated and will be removed in a future release. Please use .at[] or .iat[] accessors instead\n",
      "/anaconda2/lib/python2.7/site-packages/ipykernel_launcher.py:37: FutureWarning: set_value is deprecated and will be removed in a future release. Please use .at[] or .iat[] accessors instead\n",
      "/anaconda2/lib/python2.7/site-packages/ipykernel_launcher.py:42: FutureWarning: set_value is deprecated and will be removed in a future release. Please use .at[] or .iat[] accessors instead\n",
      "/anaconda2/lib/python2.7/site-packages/ipykernel_launcher.py:47: FutureWarning: set_value is deprecated and will be removed in a future release. Please use .at[] or .iat[] accessors instead\n",
      "/anaconda2/lib/python2.7/site-packages/ipykernel_launcher.py:52: FutureWarning: set_value is deprecated and will be removed in a future release. Please use .at[] or .iat[] accessors instead\n",
      "/anaconda2/lib/python2.7/site-packages/ipykernel_launcher.py:20: FutureWarning: set_value is deprecated and will be removed in a future release. Please use .at[] or .iat[] accessors instead\n",
      "/anaconda2/lib/python2.7/site-packages/ipykernel_launcher.py:25: FutureWarning: set_value is deprecated and will be removed in a future release. Please use .at[] or .iat[] accessors instead\n",
      "/anaconda2/lib/python2.7/site-packages/ipykernel_launcher.py:45: FutureWarning: set_value is deprecated and will be removed in a future release. Please use .at[] or .iat[] accessors instead\n",
      "/anaconda2/lib/python2.7/site-packages/ipykernel_launcher.py:35: FutureWarning: set_value is deprecated and will be removed in a future release. Please use .at[] or .iat[] accessors instead\n",
      "/anaconda2/lib/python2.7/site-packages/ipykernel_launcher.py:30: FutureWarning: set_value is deprecated and will be removed in a future release. Please use .at[] or .iat[] accessors instead\n",
      "/anaconda2/lib/python2.7/site-packages/ipykernel_launcher.py:17: FutureWarning: set_value is deprecated and will be removed in a future release. Please use .at[] or .iat[] accessors instead\n",
      "/anaconda2/lib/python2.7/site-packages/ipykernel_launcher.py:50: FutureWarning: set_value is deprecated and will be removed in a future release. Please use .at[] or .iat[] accessors instead\n"
     ]
    }
   ],
   "source": [
    "movieid = []\n",
    "for i in range(1,194):\n",
    "    movieid.append(i)\n",
    "df['MovieID'] = movieid\n",
    "df['Adventure']=0\n",
    "df['Drama']=0\n",
    "df['Comedy']=0\n",
    "df['Animation']=0\n",
    "df['Sci-fi']=0\n",
    "df['Thriller']=0\n",
    "df['Action']=0\n",
    "df['Mystery']=0\n",
    "for i,r in df.iterrows():\n",
    "    if (r['Genre'].find('Action')!=-1):\n",
    "        df.set_value(i,'Action',1)\n",
    "    else:\n",
    "        df.set_value(i,'Action',0)\n",
    "        \n",
    "    if (r['Genre'].find('Adventure')!=-1):\n",
    "        df.set_value(i,'Adventure',1)\n",
    "    else:\n",
    "        df.set_value(i,'Adventure',0)\n",
    "        \n",
    "    if (r['Genre'].find('Drama')!=-1):\n",
    "        df.set_value(i,'Drama',1)\n",
    "    else:\n",
    "        df.set_value(i,'Drama',0)\n",
    "        \n",
    "    if (r['Genre'].find('Comedy')!=-1):\n",
    "        df.set_value(i,'Comedy',1)\n",
    "    else:\n",
    "        df.set_value(i,'Comedy',0)\n",
    "        \n",
    "    if (r['Genre'].find('Animation')!=-1):\n",
    "        df.set_value(i,'Animation',1)\n",
    "    else:\n",
    "        df.set_value(i,'Animation',0)\n",
    "        \n",
    "    if (r['Genre'].find('Sci-fi')!=-1):\n",
    "        df.set_value(i,'Sci-fi',1)\n",
    "    else:\n",
    "        df.set_value(i,'Sci-fi',0)\n",
    "    \n",
    "    if (r['Genre'].find('Thriller')!=-1):\n",
    "        df.set_value(i,'Thriller',1)\n",
    "    else:\n",
    "        df.set_value(i,'Thriller',0)\n",
    "        \n",
    "    if (r['Genre'].find('Mystery')!=-1):\n",
    "        df.set_value(i,'Mystery',1)\n",
    "    else:\n",
    "        df.set_value(i,'Mystery',0)"
   ]
  },
  {
   "cell_type": "code",
   "execution_count": 39,
   "metadata": {},
   "outputs": [
    {
     "data": {
      "text/plain": [
       "(193, 6)"
      ]
     },
     "execution_count": 39,
     "metadata": {},
     "output_type": "execute_result"
    }
   ],
   "source": [
    "df['Name'].nunique()\n",
    "df.shape"
   ]
  },
  {
   "cell_type": "code",
   "execution_count": 38,
   "metadata": {},
   "outputs": [
    {
     "data": {
      "text/plain": [
       "(193, 6)"
      ]
     },
     "execution_count": 38,
     "metadata": {},
     "output_type": "execute_result"
    }
   ],
   "source": []
  },
  {
   "cell_type": "code",
   "execution_count": 3,
   "metadata": {},
   "outputs": [
    {
     "data": {
      "text/plain": [
       "193"
      ]
     },
     "execution_count": 3,
     "metadata": {},
     "output_type": "execute_result"
    }
   ],
   "source": [
    "client = MongoClient(port=27017)\n",
    "db=client.movie\n",
    "collection = db.moviedata\n",
    "collection.drop\n",
    "collection.insert_many(df.to_dict('records'))\n",
    "collection.count_documents({})"
   ]
  },
  {
   "cell_type": "code",
   "execution_count": 11,
   "metadata": {},
   "outputs": [],
   "source": [
    "cols = ['UserID','MovieID','Rated']\n",
    "df2 = pd.DataFrame(columns = cols)"
   ]
  },
  {
   "cell_type": "code",
   "execution_count": 12,
   "metadata": {},
   "outputs": [],
   "source": [
    "import numpy as np\n",
    "from random import randint\n",
    "for i in range(1,1000):\n",
    "    userid = i\n",
    "    for k in range(0,52):\n",
    "        df2 = df2.append({'UserID': userid, 'MovieID': randint(0,192)+1, 'Rated': randint(0,4)+1}, ignore_index=True)\n",
    "        k=k+1\n",
    "    i = i+1"
   ]
  },
  {
   "cell_type": "code",
   "execution_count": 13,
   "metadata": {},
   "outputs": [
    {
     "data": {
      "text/plain": [
       "(51948, 3)"
      ]
     },
     "execution_count": 13,
     "metadata": {},
     "output_type": "execute_result"
    }
   ],
   "source": [
    "df2.shape"
   ]
  },
  {
   "cell_type": "code",
   "execution_count": 32,
   "metadata": {},
   "outputs": [
    {
     "data": {
      "text/html": [
       "<div>\n",
       "<style scoped>\n",
       "    .dataframe tbody tr th:only-of-type {\n",
       "        vertical-align: middle;\n",
       "    }\n",
       "\n",
       "    .dataframe tbody tr th {\n",
       "        vertical-align: top;\n",
       "    }\n",
       "\n",
       "    .dataframe thead th {\n",
       "        text-align: right;\n",
       "    }\n",
       "</style>\n",
       "<table border=\"1\" class=\"dataframe\">\n",
       "  <thead>\n",
       "    <tr style=\"text-align: right;\">\n",
       "      <th></th>\n",
       "      <th>UserID</th>\n",
       "      <th>MovieID</th>\n",
       "      <th>Rated</th>\n",
       "    </tr>\n",
       "  </thead>\n",
       "  <tbody>\n",
       "    <tr>\n",
       "      <th>51942</th>\n",
       "      <td>999</td>\n",
       "      <td>164</td>\n",
       "      <td>4</td>\n",
       "    </tr>\n",
       "    <tr>\n",
       "      <th>51944</th>\n",
       "      <td>999</td>\n",
       "      <td>87</td>\n",
       "      <td>5</td>\n",
       "    </tr>\n",
       "    <tr>\n",
       "      <th>51945</th>\n",
       "      <td>999</td>\n",
       "      <td>88</td>\n",
       "      <td>2</td>\n",
       "    </tr>\n",
       "    <tr>\n",
       "      <th>51946</th>\n",
       "      <td>999</td>\n",
       "      <td>16</td>\n",
       "      <td>1</td>\n",
       "    </tr>\n",
       "    <tr>\n",
       "      <th>51947</th>\n",
       "      <td>999</td>\n",
       "      <td>187</td>\n",
       "      <td>2</td>\n",
       "    </tr>\n",
       "  </tbody>\n",
       "</table>\n",
       "</div>"
      ],
      "text/plain": [
       "      UserID MovieID Rated\n",
       "51942    999     164     4\n",
       "51944    999      87     5\n",
       "51945    999      88     2\n",
       "51946    999      16     1\n",
       "51947    999     187     2"
      ]
     },
     "execution_count": 32,
     "metadata": {},
     "output_type": "execute_result"
    }
   ],
   "source": [
    "df2.tail(5)"
   ]
  },
  {
   "cell_type": "code",
   "execution_count": 31,
   "metadata": {},
   "outputs": [],
   "source": [
    "maxes = df2.groupby(['UserID', 'MovieID']).Rated.transform(max)\n",
    "df2 = df2.loc[df2.Rated == maxes]\n",
    "df2.to_csv('User_rating.csv',index=False)\n",
    "#make sure no user has rated same movie twice"
   ]
  },
  {
   "cell_type": "code",
   "execution_count": 191,
   "metadata": {},
   "outputs": [
    {
     "data": {
      "text/plain": [
       "(46759, 3)"
      ]
     },
     "execution_count": 191,
     "metadata": {},
     "output_type": "execute_result"
    }
   ],
   "source": [
    "df2.shape"
   ]
  },
  {
   "cell_type": "code",
   "execution_count": 26,
   "metadata": {},
   "outputs": [],
   "source": [
    "movie_data = pd.merge(df, df2, on='MovieID')  "
   ]
  },
  {
   "cell_type": "code",
   "execution_count": 27,
   "metadata": {},
   "outputs": [],
   "source": [
    "movie_data.to_csv(\"moviedata.csv\")"
   ]
  },
  {
   "cell_type": "code",
   "execution_count": null,
   "metadata": {},
   "outputs": [],
   "source": []
  }
 ],
 "metadata": {
  "kernelspec": {
   "display_name": "Python 2",
   "language": "python",
   "name": "python2"
  },
  "language_info": {
   "codemirror_mode": {
    "name": "ipython",
    "version": 2
   },
   "file_extension": ".py",
   "mimetype": "text/x-python",
   "name": "python",
   "nbconvert_exporter": "python",
   "pygments_lexer": "ipython2",
   "version": "2.7.14"
  }
 },
 "nbformat": 4,
 "nbformat_minor": 2
}
