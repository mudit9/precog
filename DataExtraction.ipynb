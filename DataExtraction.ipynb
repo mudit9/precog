{
 "cells": [
  {
   "cell_type": "code",
   "execution_count": null,
   "metadata": {},
   "outputs": [],
   "source": [
    "from bs4 import BeautifulSoup\n",
    "import urllib2\n",
    "import csv\n",
    "from pymongo import MongoClient\n",
    "from pprint import pprint\n",
    "import urllib\n",
    "import json\n",
    "\n",
    "csvfile = csv.writer(open('imdb.csv', 'w'))\n",
    "csvfile.writerow([\"Name\", \"Year of release\", \"Rating\", \"Genre\", \"imdb Url\", \"votes\"])\n",
    "pages = 1\n",
    "genre_list = ['action','comedy','drama','sci-fi','animation','thriller']\n",
    "i = 1\n",
    "for j in genre_list:\n",
    "    print j\n",
    "    url = 'http://www.imdb.com/search/title?genres=' + j\n",
    "    pages = 1\n",
    "    while pages > 0:\n",
    "        req = urllib2.Request(url)\n",
    "        request.add_header('User-Agent', 'Mozilla/5.0 (X11; Ubuntu; Linux x86_64; rv:39.0) Gecko/20100101 Firefox/39.0')\n",
    "        urlopener = urllib2.build_opener()\n",
    "        url = urlopener.open(req)\n",
    "        data = url.read()\n",
    "        soup = BeautifulSoup(data, 'lxml')\n",
    "        for element in soup.find_all('div', class_='lister-item-content'): \n",
    "            name = element.a.text.encode('utf-8')                              \n",
    "            imdburl = element.a.get('href').encode('utf-8')                                                  \n",
    "            if not imdburl.startswith('http://www.imdb.com'):                                               \n",
    "                imdburl = \"http://www.imdb.com\" + imdburl\n",
    "            year = element.find('span', class_='lister-item-year').text.encode('utf-8')                      \n",
    "            try:\n",
    "                rating = element.find('div', class_='ratings-imdb-rating').get('data-value').encode('utf-8') \n",
    "            except AttributeError:                                                                          \n",
    "                rating = \"NA\"\n",
    "            genre = element.find('span', class_='genre').text.encode('utf-8')                                \n",
    "            try:\n",
    "                votes = element.find('span', {\"name\": 'nv'}).text.encode('utf-8')                            \n",
    "            except AttributeError:                                                                         \n",
    "                votes = \"NA\"\n",
    "            csvfile.writerow([name, year, rating, genre, imdburl, votes])  \n",
    "        print \"\\nPage Number \" + str(i) + \" complete\"\n",
    "        i = i + 1\n",
    "        pages = pages -1\n",
    "print \"Complete\""
   ]
  }
 ],
 "metadata": {
  "kernelspec": {
   "display_name": "Python 2",
   "language": "python",
   "name": "python2"
  },
  "language_info": {
   "codemirror_mode": {
    "name": "ipython",
    "version": 2
   },
   "file_extension": ".py",
   "mimetype": "text/x-python",
   "name": "python",
   "nbconvert_exporter": "python",
   "pygments_lexer": "ipython2",
   "version": "2.7.14"
  }
 },
 "nbformat": 4,
 "nbformat_minor": 2
}
