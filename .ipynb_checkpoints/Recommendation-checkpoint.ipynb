{
 "cells": [
  {
   "cell_type": "code",
   "execution_count": 156,
   "metadata": {},
   "outputs": [],
   "source": [
    "from bs4 import BeautifulSoup\n",
    "import urllib2\n",
    "import csv\n",
    "from pymongo import MongoClient\n",
    "from pprint import pprint\n",
    "import numpy as np\n",
    "import urllib\n",
    "import pandas as pd\n",
    "from random import randint\n",
    "import json"
   ]
  },
  {
   "cell_type": "code",
   "execution_count": 157,
   "metadata": {},
   "outputs": [],
   "source": [
    "movie = pd.read_csv('moviedata.csv')\n",
    "movies_data = pd.read_csv('Movies.csv')\n",
    "user_rating = pd.read_csv('User_rating.csv')"
   ]
  },
  {
   "cell_type": "markdown",
   "metadata": {},
   "source": [
    "## Input"
   ]
  },
  {
   "cell_type": "code",
   "execution_count": 158,
   "metadata": {
    "scrolled": true
   },
   "outputs": [
    {
     "name": "stdout",
     "output_type": "stream",
     "text": [
      "Enter rating for: Parks and Recreation2\n",
      "Enter rating for: Fast & Furious Presents: Hobbs & Shaw4\n",
      "Enter rating for: Hunter Killer1\n",
      "Enter rating for: Unbreakable Kimmy Schmidt2\n",
      "Enter rating for: Gotham4\n"
     ]
    }
   ],
   "source": [
    "for i in range(0,5):\n",
    "    movieid = randint(1,100)\n",
    "    a = movies_data.loc[movies_data['MovieID'] == movieid,['Name']].iloc[0]['Name']\n",
    "    rated = input(\"Enter rating for: \" + a)\n",
    "    user_rating = user_rating.append({'UserID': 1000, 'MovieID': movieid, 'Rated': rated}, ignore_index=True)"
   ]
  },
  {
   "cell_type": "markdown",
   "metadata": {},
   "source": [
    "## Item - Item"
   ]
  },
  {
   "cell_type": "code",
   "execution_count": 159,
   "metadata": {},
   "outputs": [
    {
     "name": "stdout",
     "output_type": "stream",
     "text": [
      "Because u watched the movie : Fast & Furious Presents: Hobbs & Shaw\n",
      "Avatar: The Last Airbender\n",
      "The Ballad of Buster Scruggs\n",
      "The Favourite\n",
      "It: Chapter Two\n",
      "The Big Bang Theory\n"
     ]
    }
   ],
   "source": [
    "max = user_rating.loc[user_rating['UserID'] == 1000, ['Rated']]\n",
    "max2 = max['Rated'].astype(float).idxmax()\n",
    "max_movie_id = user_rating.iloc[max2]['MovieID']\n",
    "max_movie_name1 = movies_data.loc[movies_data['MovieID'] == max_movie_id, ['Name']]\n",
    "max_movie_name = max_movie_name1.iloc[0]['Name']\n",
    "movie_data = pd.merge(movies_data,user_rating, on='MovieID')\n",
    "user_movie_rating = movie_data.pivot_table(index='UserID', columns='Name', values='Rated',aggfunc='first')\n",
    "ratings = user_movie_rating[str(max_movie_name)]  \n",
    "movies_like = user_movie_rating.corrwith(ratings,method='pearson')\n",
    "corr= pd.DataFrame(movies_like, columns=['Correlation'])\n",
    "corr.dropna(inplace=True)\n",
    "corr = corr.sort_values('Correlation', ascending=False).head(6)\n",
    "print \"Because u watched the movie : \" + max_movie_name\n",
    "recommends = list(corr.index)\n",
    "recommends.pop(0)\n",
    "for s in recommends:\n",
    "    print s"
   ]
  },
  {
   "cell_type": "markdown",
   "metadata": {},
   "source": [
    "# User - User"
   ]
  },
  {
   "cell_type": "code",
   "execution_count": 161,
   "metadata": {},
   "outputs": [
    {
     "name": "stdout",
     "output_type": "stream",
     "text": [
      "Recommended movies are : \n",
      "Birds of Prey (And the Fantabulous Emancipation of One Harley Quinn)\n",
      "Ozark\n",
      "Gotham\n",
      "Replicas\n",
      "Roma\n"
     ]
    }
   ],
   "source": [
    "movie_user_rating = movie_data.pivot_table(index= 'Name',columns = 'UserID',values='Rated',aggfunc= 'first')\n",
    "usern_rating = movie_user_rating[1000]\n",
    "user_like_user = movie_user_rating.corrwith(usern_rating,method='pearson')\n",
    "corr_user = pd.DataFrame(user_like_user, columns=['Correlation'])  \n",
    "corr_user.dropna(inplace=True)  \n",
    "corr_user.sort_values('Correlation', ascending=False).head(10) \n",
    "similar_user = list(corr_user.index)[1]\n",
    "similar_user_rating = movie_user_rating[similar_user]\n",
    "usern_rating.dropna(inplace=True)\n",
    "similar_user_rating.dropna(inplace=True)\n",
    "similar_user_rating = similar_user_rating.sort_values(ascending=False).head(6)\n",
    "recommended_movies = list(similar_user_rating.index)\n",
    "recommended_movies.pop(0)\n",
    "print \"Recommended movies are : \" \n",
    "for a in recommended_movies:\n",
    "    print a"
   ]
  },
  {
   "cell_type": "code",
   "execution_count": 162,
   "metadata": {},
   "outputs": [
    {
     "data": {
      "text/plain": [
       "193"
      ]
     },
     "execution_count": 162,
     "metadata": {},
     "output_type": "execute_result"
    }
   ],
   "source": [
    "movies_data['Name'].nunique()"
   ]
  },
  {
   "cell_type": "markdown",
   "metadata": {},
   "source": [
    "## Matrix Decomposition\n"
   ]
  },
  {
   "cell_type": "code",
   "execution_count": 164,
   "metadata": {},
   "outputs": [
    {
     "name": "stdout",
     "output_type": "stream",
     "text": [
      "User 1000 has already rated 5 movies.\n",
      "Recommending the highest 20 predicted ratings movies not already rated.\n"
     ]
    },
    {
     "name": "stderr",
     "output_type": "stream",
     "text": [
      "/anaconda2/lib/python2.7/site-packages/ipykernel_launcher.py:2: FutureWarning: Method .as_matrix will be removed in a future version. Use .values instead.\n",
      "  \n"
     ]
    },
    {
     "data": {
      "text/plain": [
       "['Agents of S.H.I.E.L.D.',\n",
       " 'Arrow',\n",
       " 'The Orville',\n",
       " 'Law & Order: Special Victims Unit',\n",
       " 'Good Girls']"
      ]
     },
     "execution_count": 164,
     "metadata": {},
     "output_type": "execute_result"
    }
   ],
   "source": [
    "R_df = user_rating.pivot_table(index = 'UserID',aggfunc='mean', columns ='MovieID', values = 'Rated')\n",
    "R = R_df.as_matrix()\n",
    "user_ratings_mean = np.mean(R, axis = 1)\n",
    "R_demeaned = R - user_ratings_mean.reshape(-1, 1)\n",
    "from scipy.sparse.linalg import svds\n",
    "U, sigma, Vt = svds(R_demeaned, k = 50)\n",
    "sigma = np.diag(sigma)\n",
    "all_user_predicted_ratings = np.dot(np.dot(U, sigma), Vt) + user_ratings_mean.reshape(-1, 1)\n",
    "preds_df = pd.DataFrame(all_user_predicted_ratings, columns = user_movie_rating.columns)\n",
    "def recommend_movies(predictions_df, userID, movies_df, original_ratings_df, num_recommendations=5):\n",
    "    \n",
    "    # Get and sort the user's predictions\n",
    "    user_row_number = userID - 1 # UserID starts at 1, not 0\n",
    "    sorted_user_predictions = predictions_df.iloc[user_row_number].sort_values(ascending=False)\n",
    "    \n",
    "    # Get the user's data and merge in the movie information.\n",
    "    user_data = original_ratings_df[original_ratings_df.UserID == (userID)]\n",
    "    user_full = (user_data.merge(movies_df, how = 'left', left_on = 'MovieID', right_on = 'MovieID').\n",
    "                     sort_values(['Rated'], ascending=False)\n",
    "                 )\n",
    "    print 'User {0} has already rated {1} movies.'.format(userID, user_full.shape[0])\n",
    "    print 'Recommending the highest {0} predicted ratings movies not already rated.'.format(num_recommendations)\n",
    "    #Recommend the highest predicted rating movies that the user hasn't seen yet.\n",
    "    recommendations = (movies_df[~movies_df['MovieID'].isin(user_full['MovieID'])].\n",
    "         merge(pd.DataFrame(sorted_user_predictions).reset_index(), how = 'left').\n",
    "         rename(columns = {user_row_number: 'Predictions'}).\n",
    "         sort_values('Predictions', ascending = False).iloc[:num_recommendations, :-1])\n",
    "    return user_full, recommendations\n",
    "\n",
    "already_rated, predictions = recommend_movies(preds_df, 1000, movies_data,user_rating, 20)\n",
    "list(predictions['Name'].head(5))"
   ]
  },
  {
   "cell_type": "code",
   "execution_count": null,
   "metadata": {},
   "outputs": [],
   "source": []
  }
 ],
 "metadata": {
  "kernelspec": {
   "display_name": "Python 2",
   "language": "python",
   "name": "python2"
  },
  "language_info": {
   "codemirror_mode": {
    "name": "ipython",
    "version": 2
   },
   "file_extension": ".py",
   "mimetype": "text/x-python",
   "name": "python",
   "nbconvert_exporter": "python",
   "pygments_lexer": "ipython2",
   "version": "2.7.14"
  }
 },
 "nbformat": 4,
 "nbformat_minor": 2
}
