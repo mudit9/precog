{
 "cells": [
  {
   "cell_type": "code",
   "execution_count": 77,
   "metadata": {},
   "outputs": [],
   "source": [
    "from bs4 import BeautifulSoup\n",
    "import urllib2\n",
    "import csv\n",
    "from pymongo import MongoClient\n",
    "from pprint import pprint\n",
    "import numpy as np\n",
    "import urllib\n",
    "import pandas as pd\n",
    "from random import randint\n",
    "import json\n",
    "from scipy.sparse.linalg import svds"
   ]
  },
  {
   "cell_type": "code",
   "execution_count": 78,
   "metadata": {},
   "outputs": [],
   "source": [
    "movie = pd.read_csv('moviedata.csv')\n",
    "movies_data = pd.read_csv('Movies.csv')\n",
    "user_rating = pd.read_csv('User_rating.csv')"
   ]
  },
  {
   "cell_type": "markdown",
   "metadata": {},
   "source": [
    "## Input"
   ]
  },
  {
   "cell_type": "code",
   "execution_count": 79,
   "metadata": {
    "scrolled": true
   },
   "outputs": [
    {
     "name": "stdout",
     "output_type": "stream",
     "text": [
      "Enter rating for: The Marvelous Mrs. Maisel3\n",
      "Enter rating for: Miss Bala4\n",
      "Enter rating for: Close2\n",
      "Enter rating for: Stan & Ollie3\n",
      "Enter rating for: A Simple Favor1\n"
     ]
    }
   ],
   "source": [
    "for i in range(0,5):\n",
    "    movieid = randint(1,100)\n",
    "    a = movies_data.loc[movies_data['MovieID'] == movieid,['Name']].iloc[0]['Name']\n",
    "    rated = input(\"Enter rating for: \" + a)\n",
    "    user_rating = user_rating.append({'UserID': 1000, 'MovieID': movieid, 'Rated': rated}, ignore_index=True)"
   ]
  },
  {
   "cell_type": "code",
   "execution_count": 80,
   "metadata": {},
   "outputs": [
    {
     "data": {
      "text/html": [
       "<div>\n",
       "<style scoped>\n",
       "    .dataframe tbody tr th:only-of-type {\n",
       "        vertical-align: middle;\n",
       "    }\n",
       "\n",
       "    .dataframe tbody tr th {\n",
       "        vertical-align: top;\n",
       "    }\n",
       "\n",
       "    .dataframe thead th {\n",
       "        text-align: right;\n",
       "    }\n",
       "</style>\n",
       "<table border=\"1\" class=\"dataframe\">\n",
       "  <thead>\n",
       "    <tr style=\"text-align: right;\">\n",
       "      <th>UserID</th>\n",
       "      <th>1</th>\n",
       "      <th>2</th>\n",
       "      <th>3</th>\n",
       "      <th>4</th>\n",
       "      <th>5</th>\n",
       "      <th>6</th>\n",
       "      <th>7</th>\n",
       "      <th>8</th>\n",
       "      <th>9</th>\n",
       "      <th>10</th>\n",
       "      <th>...</th>\n",
       "      <th>991</th>\n",
       "      <th>992</th>\n",
       "      <th>993</th>\n",
       "      <th>994</th>\n",
       "      <th>995</th>\n",
       "      <th>996</th>\n",
       "      <th>997</th>\n",
       "      <th>998</th>\n",
       "      <th>999</th>\n",
       "      <th>1000</th>\n",
       "    </tr>\n",
       "    <tr>\n",
       "      <th>Name</th>\n",
       "      <th></th>\n",
       "      <th></th>\n",
       "      <th></th>\n",
       "      <th></th>\n",
       "      <th></th>\n",
       "      <th></th>\n",
       "      <th></th>\n",
       "      <th></th>\n",
       "      <th></th>\n",
       "      <th></th>\n",
       "      <th></th>\n",
       "      <th></th>\n",
       "      <th></th>\n",
       "      <th></th>\n",
       "      <th></th>\n",
       "      <th></th>\n",
       "      <th></th>\n",
       "      <th></th>\n",
       "      <th></th>\n",
       "      <th></th>\n",
       "      <th></th>\n",
       "    </tr>\n",
       "  </thead>\n",
       "  <tbody>\n",
       "    <tr>\n",
       "      <th>A Million Little Things</th>\n",
       "      <td>NaN</td>\n",
       "      <td>NaN</td>\n",
       "      <td>NaN</td>\n",
       "      <td>NaN</td>\n",
       "      <td>NaN</td>\n",
       "      <td>NaN</td>\n",
       "      <td>NaN</td>\n",
       "      <td>NaN</td>\n",
       "      <td>NaN</td>\n",
       "      <td>NaN</td>\n",
       "      <td>...</td>\n",
       "      <td>5.0</td>\n",
       "      <td>NaN</td>\n",
       "      <td>4.0</td>\n",
       "      <td>NaN</td>\n",
       "      <td>NaN</td>\n",
       "      <td>NaN</td>\n",
       "      <td>NaN</td>\n",
       "      <td>NaN</td>\n",
       "      <td>3.0</td>\n",
       "      <td>NaN</td>\n",
       "    </tr>\n",
       "    <tr>\n",
       "      <th>A Quiet Place</th>\n",
       "      <td>NaN</td>\n",
       "      <td>5.0</td>\n",
       "      <td>NaN</td>\n",
       "      <td>NaN</td>\n",
       "      <td>1.0</td>\n",
       "      <td>NaN</td>\n",
       "      <td>3.0</td>\n",
       "      <td>NaN</td>\n",
       "      <td>NaN</td>\n",
       "      <td>4.0</td>\n",
       "      <td>...</td>\n",
       "      <td>NaN</td>\n",
       "      <td>NaN</td>\n",
       "      <td>NaN</td>\n",
       "      <td>NaN</td>\n",
       "      <td>NaN</td>\n",
       "      <td>NaN</td>\n",
       "      <td>NaN</td>\n",
       "      <td>NaN</td>\n",
       "      <td>NaN</td>\n",
       "      <td>NaN</td>\n",
       "    </tr>\n",
       "    <tr>\n",
       "      <th>A Series of Unfortunate Events</th>\n",
       "      <td>NaN</td>\n",
       "      <td>NaN</td>\n",
       "      <td>NaN</td>\n",
       "      <td>NaN</td>\n",
       "      <td>5.0</td>\n",
       "      <td>NaN</td>\n",
       "      <td>NaN</td>\n",
       "      <td>2.0</td>\n",
       "      <td>NaN</td>\n",
       "      <td>NaN</td>\n",
       "      <td>...</td>\n",
       "      <td>NaN</td>\n",
       "      <td>1.0</td>\n",
       "      <td>NaN</td>\n",
       "      <td>1.0</td>\n",
       "      <td>NaN</td>\n",
       "      <td>NaN</td>\n",
       "      <td>NaN</td>\n",
       "      <td>NaN</td>\n",
       "      <td>NaN</td>\n",
       "      <td>NaN</td>\n",
       "    </tr>\n",
       "    <tr>\n",
       "      <th>A Simple Favor</th>\n",
       "      <td>NaN</td>\n",
       "      <td>NaN</td>\n",
       "      <td>3.0</td>\n",
       "      <td>2.0</td>\n",
       "      <td>NaN</td>\n",
       "      <td>NaN</td>\n",
       "      <td>NaN</td>\n",
       "      <td>2.0</td>\n",
       "      <td>NaN</td>\n",
       "      <td>4.0</td>\n",
       "      <td>...</td>\n",
       "      <td>2.0</td>\n",
       "      <td>NaN</td>\n",
       "      <td>NaN</td>\n",
       "      <td>NaN</td>\n",
       "      <td>1.0</td>\n",
       "      <td>NaN</td>\n",
       "      <td>NaN</td>\n",
       "      <td>NaN</td>\n",
       "      <td>NaN</td>\n",
       "      <td>1.0</td>\n",
       "    </tr>\n",
       "    <tr>\n",
       "      <th>A Star Is Born</th>\n",
       "      <td>NaN</td>\n",
       "      <td>5.0</td>\n",
       "      <td>NaN</td>\n",
       "      <td>NaN</td>\n",
       "      <td>NaN</td>\n",
       "      <td>4.0</td>\n",
       "      <td>NaN</td>\n",
       "      <td>5.0</td>\n",
       "      <td>3.0</td>\n",
       "      <td>NaN</td>\n",
       "      <td>...</td>\n",
       "      <td>NaN</td>\n",
       "      <td>NaN</td>\n",
       "      <td>NaN</td>\n",
       "      <td>NaN</td>\n",
       "      <td>NaN</td>\n",
       "      <td>NaN</td>\n",
       "      <td>NaN</td>\n",
       "      <td>4.0</td>\n",
       "      <td>NaN</td>\n",
       "      <td>NaN</td>\n",
       "    </tr>\n",
       "  </tbody>\n",
       "</table>\n",
       "<p>5 rows × 1000 columns</p>\n",
       "</div>"
      ],
      "text/plain": [
       "UserID                          1     2     3     4     5     6     7     \\\n",
       "Name                                                                       \n",
       "A Million Little Things          NaN   NaN   NaN   NaN   NaN   NaN   NaN   \n",
       "A Quiet Place                    NaN   5.0   NaN   NaN   1.0   NaN   3.0   \n",
       "A Series of Unfortunate Events   NaN   NaN   NaN   NaN   5.0   NaN   NaN   \n",
       "A Simple Favor                   NaN   NaN   3.0   2.0   NaN   NaN   NaN   \n",
       "A Star Is Born                   NaN   5.0   NaN   NaN   NaN   4.0   NaN   \n",
       "\n",
       "UserID                          8     9     10    ...  991   992   993   994   \\\n",
       "Name                                              ...                           \n",
       "A Million Little Things          NaN   NaN   NaN  ...   5.0   NaN   4.0   NaN   \n",
       "A Quiet Place                    NaN   NaN   4.0  ...   NaN   NaN   NaN   NaN   \n",
       "A Series of Unfortunate Events   2.0   NaN   NaN  ...   NaN   1.0   NaN   1.0   \n",
       "A Simple Favor                   2.0   NaN   4.0  ...   2.0   NaN   NaN   NaN   \n",
       "A Star Is Born                   5.0   3.0   NaN  ...   NaN   NaN   NaN   NaN   \n",
       "\n",
       "UserID                          995   996   997   998   999   1000  \n",
       "Name                                                                \n",
       "A Million Little Things          NaN   NaN   NaN   NaN   3.0   NaN  \n",
       "A Quiet Place                    NaN   NaN   NaN   NaN   NaN   NaN  \n",
       "A Series of Unfortunate Events   NaN   NaN   NaN   NaN   NaN   NaN  \n",
       "A Simple Favor                   1.0   NaN   NaN   NaN   NaN   1.0  \n",
       "A Star Is Born                   NaN   NaN   NaN   4.0   NaN   NaN  \n",
       "\n",
       "[5 rows x 1000 columns]"
      ]
     },
     "execution_count": 80,
     "metadata": {},
     "output_type": "execute_result"
    }
   ],
   "source": [
    "movie_data = pd.merge(movies_data,user_rating, on='MovieID')\n",
    "movie_user_rating = movie_data.pivot_table(index= 'Name',columns = 'UserID',values='Rated',aggfunc= 'first')\n",
    "movie_user_rating.head(5)"
   ]
  },
  {
   "cell_type": "markdown",
   "metadata": {},
   "source": [
    "## Item - Item"
   ]
  },
  {
   "cell_type": "code",
   "execution_count": 82,
   "metadata": {},
   "outputs": [
    {
     "name": "stdout",
     "output_type": "stream",
     "text": [
      "Because u watched the movie : Miss Bala\n",
      "It: Chapter Two\n",
      "Toy Story 4\n",
      "The Girl in the Spider's Web\n",
      "Close\n",
      "The Blacklist\n"
     ]
    }
   ],
   "source": [
    "usersrating= user_rating.loc[user_rating['UserID'] == 1000, ['Rated']] #get the new users rating\n",
    "max2 = usersrating['Rated'].astype(float).idxmax() #find the index of the maximum rated movie\n",
    "if user_rating.iloc[max2]['Rated']>3: #See if user has given any of the movie more than 3 stars\n",
    "    max_movie_id = user_rating.iloc[max2]['MovieID'] #Get the movie ID from the index\n",
    "    max_movie_name1 = movies_data.loc[movies_data['MovieID'] == max_movie_id, ['Name']] #Get the name of the movie from ID\n",
    "    max_movie_name = max_movie_name1.iloc[0]['Name']\n",
    "    movie_data = pd.merge(movies_data,user_rating, on='MovieID') #merge the 2DFs\n",
    "    user_movie_rating=movie_data.pivot_table(index='UserID',columns='Name',values='Rated',aggfunc='first').astype(float)#utility Matrix\n",
    "    ratings = user_movie_rating[str(max_movie_name)].astype(float)#Get the ratings of the max rated movie\n",
    "    movie_like=user_movie_rating.corrwith(ratings,method='pearson')#Find the movies with similar ratings(pearsonSimilarity)\n",
    "    corr= pd.DataFrame(movie_like, columns=['Correlation']) \n",
    "    corr.dropna(inplace=True)\n",
    "    corr = corr.sort_values('Correlation',ascending=False).head(6) #Sort it in a descending order. Maximum first.\n",
    "    print \"Because u watched the movie : \" + max_movie_name\n",
    "    recommends = list(corr.index)\n",
    "    recommends.pop(0)\n",
    "else: #IF USER DOES NOT LIKE ANY MOVIE, RECOMMEND 5 HIGHEST IMDB RATED MOVIES.\n",
    "    recommends = list(movies_data.sort_values(\"Rating\",ascending=False).head(5)['Name']) #Get highest IMDB rated movies\n",
    "for movie in recommends:\n",
    "    print movie"
   ]
  },
  {
   "cell_type": "markdown",
   "metadata": {},
   "source": [
    "# User - User"
   ]
  },
  {
   "cell_type": "code",
   "execution_count": 45,
   "metadata": {},
   "outputs": [
    {
     "name": "stdout",
     "output_type": "stream",
     "text": [
      "Recommended movies are : \n",
      "Venom  5.0\n",
      "How to Train Your Dragon 2  5.0\n",
      "Unbreakable  5.0\n",
      "Archer  5.0\n",
      "Avatar: The Last Airbender  5.0\n"
     ]
    }
   ],
   "source": [
    "movie_user_rating=movie_data.pivot_table(index= 'Name',columns='UserID',values='Rated',aggfunc='first').astype(float)#UtlityMatrix\n",
    "usern_rating = movie_user_rating[1000].astype(float) #Get ratings of new user(index = 1000)\n",
    "user_alike=movie_user_rating.corrwith(usern_rating,method='pearson')#find user with similar ratings(pearson Similarity)\n",
    "corr_user = pd.DataFrame(user_alike, columns=['Correlation'])  \n",
    "corr_user.dropna(inplace=True)  \n",
    "corr_user = corr_user.sort_values('Correlation',ascending=False).head(10)#Descending order to get maximum ratings first\n",
    "similar_user = list(corr_user.index)[1] #Most similar user\n",
    "similar_user_rating = movie_user_rating[similar_user] #Get Ratings of the most similar user\n",
    "usern_rating.dropna(inplace=True)\n",
    "similar_user_rating.dropna(inplace=True)\n",
    "similar_user_rating = similar_user_rating.sort_values(ascending=False).head(6)#Highest rated movies of similar user\n",
    "user_data = user_rating[user_rating.UserID == (1000)]\n",
    "user_full = (user_data.merge(movies_data, how = 'left', left_on = 'MovieID', right_on = 'MovieID')\n",
    "             .sort_values(['Rated'], ascending=False)) #find movies watched by new user\n",
    "movies_watched = list(user_full['MovieID'])\n",
    "recommended_movies = list(similar_user_rating.index)\n",
    "for movie in recommended_movies:              #check if any recommended movie has already been rated by new user\n",
    "    if movie in movies_watched:\n",
    "        recommended_movies.pop(movie)         #remove from recommendations if already rated\n",
    "recommended_movies.pop(0)\n",
    "print \"Recommended movies are : \"\n",
    "i=0\n",
    "for a in recommended_movies:\n",
    "    print a + \"  \" +str(similar_user_rating[i])\n",
    "    i=i+1"
   ]
  },
  {
   "cell_type": "markdown",
   "metadata": {},
   "source": [
    "## Matrix Decomposition\n"
   ]
  },
  {
   "cell_type": "code",
   "execution_count": 59,
   "metadata": {},
   "outputs": [
    {
     "name": "stderr",
     "output_type": "stream",
     "text": [
      "/anaconda2/lib/python2.7/site-packages/ipykernel_launcher.py:2: FutureWarning: Method .as_matrix will be removed in a future version. Use .values instead.\n",
      "  \n"
     ]
    },
    {
     "data": {
      "text/plain": [
       "['American Horror Story',\n",
       " 'Alita: Battle Angel',\n",
       " 'Can You Ever Forgive Me?',\n",
       " 'IO',\n",
       " 'Frozen']"
      ]
     },
     "execution_count": 59,
     "metadata": {},
     "output_type": "execute_result"
    }
   ],
   "source": [
    "matrix_df = user_rating.pivot_table(index='UserID',columns ='MovieID',values='Rated',aggfunc='first').astype(float).fillna(0)  #utility matrix\n",
    "R = matrix_df.as_matrix()\n",
    "user_ratings_mean = np.mean(R, axis = 1)        #Demeaning the data\n",
    "matrix_de_mean = R - user_ratings_mean.reshape(-1, 1)\n",
    "U, sigma, Vt = svds(matrix_de_mean, k = 50)    #Singular Value Decomposition \n",
    "sigma = np.diag(sigma)                         #Converting into a diagonal matrix\n",
    "all_user_predicted_ratings = np.dot(np.dot(U, sigma), Vt) + user_ratings_mean.reshape(-1, 1) #Getting original data\n",
    "prediction_df = pd.DataFrame(all_user_predicted_ratings, columns = user_movie_rating.columns) #predictions DF\n",
    "def recommend_movies(predictions_df, userID, movies_df, users_ratings_df):\n",
    "    user_number = userID-1  #Get User Index\n",
    "    sorted_predictions = predictions_df.iloc[user_number].sort_values(ascending=False)\n",
    "    recommendations = (movies_df[~movies_df['MovieID'].isin(user_full['MovieID'])].\n",
    "                 merge(pd.DataFrame(sorted_predictions).reset_index(), how = 'left').\n",
    "                 rename(columns = {user_number: 'Predictions'}).\n",
    "                 sort_values('Predictions', ascending = False).iloc[:5, :-1])\n",
    "    return recommendations\n",
    "predictions = recommend_movies(prediction_df, 1000, movies_data,user_rating)\n",
    "recommended_movies = list(predictions['Name'].head(5))\n",
    "recommended_movies"
   ]
  },
  {
   "cell_type": "code",
   "execution_count": null,
   "metadata": {},
   "outputs": [],
   "source": []
  }
 ],
 "metadata": {
  "kernelspec": {
   "display_name": "Python 2",
   "language": "python",
   "name": "python2"
  },
  "language_info": {
   "codemirror_mode": {
    "name": "ipython",
    "version": 2
   },
   "file_extension": ".py",
   "mimetype": "text/x-python",
   "name": "python",
   "nbconvert_exporter": "python",
   "pygments_lexer": "ipython2",
   "version": "2.7.14"
  }
 },
 "nbformat": 4,
 "nbformat_minor": 2
}
